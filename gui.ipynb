{
 "cells": [
  {
   "cell_type": "code",
   "execution_count": 16,
   "metadata": {},
   "outputs": [],
   "source": [
    "import tkinter as tk\n",
    "from tkinter import filedialog\n",
    "from tkinter import *\n",
    "from PIL import ImageTk, Image\n",
    "import numpy as np\n",
    "import tensorflow as tf\n",
    "from tensorflow.keras.preprocessing import image\n",
    "import sys\n",
    "import PyPDF2\n",
    "from tkinter.filedialog import askopenfile\n"
   ]
  },
  {
   "cell_type": "code",
   "execution_count": 17,
   "metadata": {},
   "outputs": [],
   "source": [
    "from keras.models import load_model\n",
    "\n",
    "model = load_model('C:\\\\Users\\\\DELL\\\\resnet101V2.h5')"
   ]
  },
  {
   "cell_type": "code",
   "execution_count": 28,
   "metadata": {},
   "outputs": [],
   "source": [
    "root =tk.Tk()\n",
    "canvas = tk.Canvas(root, width=600, height=250)\n",
    "canvas.grid(columnspan=3, rowspan=3)"
   ]
  },
  {
   "cell_type": "code",
   "execution_count": 29,
   "metadata": {},
   "outputs": [],
   "source": [
    "instructions = tk.Label(root, text=\"Upload an image file\", font=(\"Comic Sans MS\",10))\n",
    "instructions.grid(column=2,row=2, padx=48,pady=70,sticky=tk.NW)"
   ]
  },
  {
   "cell_type": "code",
   "execution_count": 30,
   "metadata": {},
   "outputs": [],
   "source": [
    "def item(argument): \n",
    "    switcher = { \n",
    "        0: \"cardboard\", \n",
    "        1: \"glass\", \n",
    "        2: \"metal\",\n",
    "        3: \"paper\",\n",
    "        4: \"plastic\",\n",
    "        5: \"trash\",\n",
    "        \n",
    "    }  \n",
    "    return switcher.get(argument, \"other waste excecpt cardboard,glass,metal,paper,plastic,trash\")\n",
    "\n",
    "\n",
    "def classify(filepath):\n",
    "    global label_packed\n",
    "    test_image = image.load_img(filepath)\n",
    "    test_image = image.img_to_array(test_image)\n",
    "    test_image = test_image/255 \n",
    "    test_image = np.expand_dims(test_image, axis=0)\n",
    "    \n",
    "    print(test_image.shape)\n",
    "    \n",
    "    result = model.predict(test_image)\n",
    "    print(result)\n",
    "    \n",
    "    m=5\n",
    "    maxelement= -sys.maxsize-1\n",
    "    for j in range(m):\n",
    "        if(result[0][j]> maxelement):\n",
    "            maxelement=result[0][j]\n",
    "            index=j\n",
    "    argument=index         \n",
    "    \n",
    "    print(item(argument))\n",
    "    Label(root,text=\"The uploaded waste is identified as \",font=(\"Raleway\",12)).grid(row=1,column=1,pady=55,sticky=tk.NE)\n",
    "    Label(root,text=item(argument),font=(\"Comic Sans MS\",14,\"italic\"),fg=\"#8D1B3D\").grid(row=1,column=2,sticky=tk.NW,pady=47)\n",
    "    '''T = tk.Text(root, height=2, width=30)\n",
    "    T.insert(tk.END,item(argument))\n",
    "    T.grid(row=1,column=1,pady=50,padx=50)'''\n",
    "\n"
   ]
  },
  {
   "cell_type": "code",
   "execution_count": 31,
   "metadata": {},
   "outputs": [],
   "source": [
    "def open_file():\n",
    "    browse_text.set(\"Loading...\")\n",
    "    file=filedialog.askopenfilename()\n",
    "    if file:\n",
    "        img=Image.open(file)\n",
    "        img = img.resize((255, 255), Image.ANTIALIAS) \n",
    "        img=ImageTk.PhotoImage(img)\n",
    "        print(img)\n",
    "        panel=tk.Label(root,image=img)\n",
    "        panel.image=img\n",
    "        panel.grid(row=2,column=1,sticky=tk.NE)\n",
    "        btn = tk.Button(root, text = 'Proceed', command =lambda:classify(file),font=(\"Raleway\",12),bg=\"#8D1B3D\", fg=\"white\", height=1, width=7)\n",
    "        btn.grid(row=3,column=1,sticky=tk.NE,padx=83,pady=50)\n",
    "        browse_text.set(\"Browse\")\n",
    "    "
   ]
  },
  {
   "cell_type": "code",
   "execution_count": null,
   "metadata": {},
   "outputs": [
    {
     "name": "stdout",
     "output_type": "stream",
     "text": [
      "pyimage8\n",
      "(1, 384, 512, 3)\n",
      "[[9.8046136e-01 5.3601712e-04 3.8663906e-04 1.8029891e-02 1.2880485e-04\n",
      "  4.5721064e-04]]\n",
      "cardboard\n"
     ]
    }
   ],
   "source": [
    "browse_text = tk.StringVar()\n",
    "\n",
    "\n",
    "browse_btn = tk.Button(root, textvariable=browse_text, command=lambda:open_file(), font=(\"Raleway\",12), bg=\"#8D1B3D\", fg=\"white\",height=1, width=15)\n",
    "browse_btn.grid(column=2, row=2,padx=(40,100),pady=110,sticky=tk.NW)\n",
    "\n",
    "browse_text.set(\"Browse\")\n",
    "btn1= tk.Button(root, text = 'Exit', command=root.destroy,font=(\"Raleway\",12,\"underline\"),fg=\"#8D1B3D\", height=1, width=5)\n",
    "btn1.grid(row=1,column=2,sticky=tk.NE,pady=50,padx=50)\n",
    "\n",
    "canvas = tk.Canvas(root, width=600, height=250)\n",
    "canvas.grid(columnspan=3)\n",
    "root.title(\"Waste Classification\")\n",
    "root.mainloop()"
   ]
  },
  {
   "cell_type": "code",
   "execution_count": null,
   "metadata": {},
   "outputs": [],
   "source": []
  },
  {
   "cell_type": "code",
   "execution_count": null,
   "metadata": {},
   "outputs": [],
   "source": []
  }
 ],
 "metadata": {
  "kernelspec": {
   "display_name": "Python 3",
   "language": "python",
   "name": "python3"
  },
  "language_info": {
   "codemirror_mode": {
    "name": "ipython",
    "version": 3
   },
   "file_extension": ".py",
   "mimetype": "text/x-python",
   "name": "python",
   "nbconvert_exporter": "python",
   "pygments_lexer": "ipython3",
   "version": "3.8.3"
  }
 },
 "nbformat": 4,
 "nbformat_minor": 4
}
