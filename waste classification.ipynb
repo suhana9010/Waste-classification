{
 "cells": [
  {
   "cell_type": "code",
   "execution_count": 1,
   "metadata": {},
   "outputs": [],
   "source": [
    "from tensorflow.compat.v1 import ConfigProto\n",
    "from tensorflow.compat.v1 import InteractiveSession\n",
    "\n",
    "config = ConfigProto()\n",
    "config.gpu_options.per_process_gpu_memory_fraction = 0.5\n",
    "config.gpu_options.allow_growth = True\n",
    "session = InteractiveSession(config=config)\n"
   ]
  },
  {
   "cell_type": "code",
   "execution_count": 2,
   "metadata": {},
   "outputs": [],
   "source": [
    "import numpy as np\n",
    "import matplotlib.pyplot as plt\n",
    "import pandas as pd\n",
    "import tensorflow as tf\n"
   ]
  },
  {
   "cell_type": "code",
   "execution_count": 5,
   "metadata": {},
   "outputs": [
    {
     "name": "stdout",
     "output_type": "stream",
     "text": [
      "Found 2527 images belonging to 6 classes.\n",
      "Found 328 images belonging to 6 classes.\n"
     ]
    }
   ],
   "source": [
    "from keras.preprocessing.image import ImageDataGenerator\n",
    "\n",
    "data_path=\"split-garbage-dataset\"\n",
    "\n",
    "train_datagen=ImageDataGenerator(rescale=1./255,\n",
    "                            shear_range=0.2,\n",
    "                            zoom_range=0.2,\n",
    "                            horizontal_flip=True)\n",
    "train_gen=train_datagen.flow_from_directory(data_path + '/train',\n",
    "                                             target_size=(224,224),\n",
    "                                             batch_size=64,\n",
    "                                             class_mode='categorical')\n",
    "\n",
    "val_datagen = ImageDataGenerator(rescale = 1./255)\n",
    "val_gen=val_datagen.flow_from_directory(data_path + '/valid',\n",
    "                                             target_size=(224,224),\n",
    "                                             batch_size=1,\n",
    "                                             class_mode='categorical',\n",
    "                                             shuffle=False)"
   ]
  },
  {
   "cell_type": "code",
   "execution_count": 6,
   "metadata": {},
   "outputs": [],
   "source": [
    "from tensorflow.keras.models import Sequential\n",
    "from tensorflow.keras.layers import Dense\n",
    "from tensorflow.keras.regularizers import l2\n",
    "from tensorflow.keras.applications.resnet_v2 import ResNet101V2, preprocess_input\n",
    "\n",
    "model = Sequential([ResNet101V2(include_top=False,\n",
    "                             weights='imagenet',\n",
    "                             pooling='avg'),\n",
    "                    Dense(6, kernel_regularizer=tf.keras.regularizers.l2(0.01),activation='softmax')])\n",
    "model.layers[0].trainable = False"
   ]
  },
  {
   "cell_type": "code",
   "execution_count": 7,
   "metadata": {},
   "outputs": [],
   "source": [
    "opt=tf.keras.optimizers.SGD(learning_rate=0.01, momentum=0.9)\n"
   ]
  },
  {
   "cell_type": "code",
   "execution_count": 8,
   "metadata": {},
   "outputs": [],
   "source": [
    "model.compile(optimizer = opt,\n",
    "              loss='squared_hinge',\n",
    "              metrics=['accuracy'])"
   ]
  },
  {
   "cell_type": "code",
   "execution_count": 9,
   "metadata": {},
   "outputs": [
    {
     "name": "stdout",
     "output_type": "stream",
     "text": [
      "Model: \"sequential\"\n",
      "_________________________________________________________________\n",
      "Layer (type)                 Output Shape              Param #   \n",
      "=================================================================\n",
      "resnet101v2 (Functional)     (None, 2048)              42626560  \n",
      "_________________________________________________________________\n",
      "dense (Dense)                (None, 6)                 12294     \n",
      "=================================================================\n",
      "Total params: 42,638,854\n",
      "Trainable params: 12,294\n",
      "Non-trainable params: 42,626,560\n",
      "_________________________________________________________________\n"
     ]
    }
   ],
   "source": [
    "model.summary()"
   ]
  },
  {
   "cell_type": "code",
   "execution_count": 18,
   "metadata": {},
   "outputs": [
    {
     "name": "stdout",
     "output_type": "stream",
     "text": [
      "Epoch 1/10\n",
      "40/40 [==============================] - 521s 13s/step - loss: 1.0070 - accuracy: 0.8560 - val_loss: 0.9947 - val_accuracy: 0.8628\n",
      "Epoch 2/10\n",
      "40/40 [==============================] - 755s 19s/step - loss: 0.9969 - accuracy: 0.8647 - val_loss: 0.9865 - val_accuracy: 0.8689\n",
      "Epoch 3/10\n",
      "40/40 [==============================] - 369s 9s/step - loss: 0.9899 - accuracy: 0.8599 - val_loss: 0.9812 - val_accuracy: 0.8750\n",
      "Epoch 4/10\n",
      "40/40 [==============================] - 365s 9s/step - loss: 0.9833 - accuracy: 0.8678 - val_loss: 0.9733 - val_accuracy: 0.8720\n",
      "Epoch 5/10\n",
      "40/40 [==============================] - 531s 13s/step - loss: 0.9760 - accuracy: 0.8805 - val_loss: 0.9699 - val_accuracy: 0.8720\n",
      "Epoch 6/10\n",
      "40/40 [==============================] - 2492s 62s/step - loss: 0.9719 - accuracy: 0.8753 - val_loss: 0.9655 - val_accuracy: 0.8750\n",
      "Epoch 7/10\n",
      "40/40 [==============================] - 350s 9s/step - loss: 0.9678 - accuracy: 0.8805 - val_loss: 0.9550 - val_accuracy: 0.9055\n",
      "Epoch 8/10\n",
      "40/40 [==============================] - 350s 9s/step - loss: 0.9636 - accuracy: 0.8848 - val_loss: 0.9530 - val_accuracy: 0.9024\n",
      "Epoch 9/10\n",
      "40/40 [==============================] - 351s 9s/step - loss: 0.9583 - accuracy: 0.8979 - val_loss: 0.9541 - val_accuracy: 0.8933\n",
      "Epoch 10/10\n",
      "40/40 [==============================] - 349s 9s/step - loss: 0.9585 - accuracy: 0.8959 - val_loss: 0.9463 - val_accuracy: 0.9085\n"
     ]
    }
   ],
   "source": [
    "history = model.fit(x=train_gen,validation_data=val_gen,epochs=10)"
   ]
  },
  {
   "cell_type": "code",
   "execution_count": 19,
   "metadata": {},
   "outputs": [
    {
     "data": {
      "image/png": "[encoded data removed]",
      "text/plain": [
       "<Figure size 432x288 with 1 Axes>"
      ]
     },
     "metadata": {
      "needs_background": "light"
     },
     "output_type": "display_data"
    },
    {
     "data": {
      "image/png": "[encoded data removed]",
      "text/plain": [
       "<Figure size 432x288 with 1 Axes>"
      ]
     },
     "metadata": {
      "needs_background": "light"
     },
     "output_type": "display_data"
    },
    {
     "data": {
      "text/plain": [
       "<Figure size 432x288 with 0 Axes>"
      ]
     },
     "metadata": {},
     "output_type": "display_data"
    }
   ],
   "source": [
    "import matplotlib.pyplot as plt\n",
    "plt.plot(history.history['loss'], label='train loss')\n",
    "plt.plot(history.history['val_loss'], label='val loss')\n",
    "plt.legend()\n",
    "plt.show()\n",
    "plt.savefig('LossVal_loss')\n",
    "\n",
    "# plot the accuracy\n",
    "plt.plot(history.history['accuracy'], label='train acc')\n",
    "plt.plot(history.history['val_accuracy'], label='val acc')\n",
    "plt.legend()\n",
    "plt.show()\n",
    "plt.savefig('AccVal_acc')"
   ]
  },
  {
   "cell_type": "code",
   "execution_count": 20,
   "metadata": {},
   "outputs": [],
   "source": [
    "model.save('resnet101V2.h5')"
   ]
  },
  {
   "cell_type": "code",
   "execution_count": 21,
   "metadata": {},
   "outputs": [
    {
     "name": "stdout",
     "output_type": "stream",
     "text": [
      "Model: \"sequential\"\n",
      "_________________________________________________________________\n",
      "Layer (type)                 Output Shape              Param #   \n",
      "=================================================================\n",
      "resnet101v2 (Functional)     (None, 2048)              42626560  \n",
      "_________________________________________________________________\n",
      "dense (Dense)                (None, 6)                 12294     \n",
      "=================================================================\n",
      "Total params: 42,638,854\n",
      "Trainable params: 12,294\n",
      "Non-trainable params: 42,626,560\n",
      "_________________________________________________________________\n"
     ]
    }
   ],
   "source": [
    "from tensorflow.keras.models import load_model\n",
    "model=load_model('resnet101V2.h5')\n",
    "model.summary()\n"
   ]
  },
  {
   "cell_type": "code",
   "execution_count": 22,
   "metadata": {},
   "outputs": [
    {
     "name": "stdout",
     "output_type": "stream",
     "text": [
      "Found 431 images belonging to 6 classes.\n"
     ]
    }
   ],
   "source": [
    "data_path =\"split-garbage-dataset\"\n",
    "\n",
    "test_datagen= ImageDataGenerator(rescale=1./255)\n",
    "\n",
    "test_gen = test_datagen.flow_from_directory(data_path + '/test',\n",
    "                                              target_size=(224,224),\n",
    "                                              batch_size=1,\n",
    "                                              class_mode='categorical',\n",
    "                                              shuffle=False)\n"
   ]
  },
  {
   "cell_type": "code",
   "execution_count": 23,
   "metadata": {},
   "outputs": [],
   "source": [
    "y_pred = model.predict(test_gen)\n",
    "y_pred = np.argmax(y_pred, axis=1)\n"
   ]
  },
  {
   "cell_type": "code",
   "execution_count": 24,
   "metadata": {},
   "outputs": [
    {
     "data": {
      "text/plain": [
       "Text(0.5, 1.0, 'Confusion matrix of model')"
      ]
     },
     "execution_count": 24,
     "metadata": {},
     "output_type": "execute_result"
    },
    {
     "data": {
      "image/png": "[encoded data removed]",
      "text/plain": [
       "<Figure size 576x360 with 2 Axes>"
      ]
     },
     "metadata": {
      "needs_background": "light"
     },
     "output_type": "display_data"
    }
   ],
   "source": [
    "from sklearn.metrics import confusion_matrix,accuracy_score\n",
    "cf_matrix = confusion_matrix(test_gen.classes, y_pred)\n",
    "import seaborn as sns\n",
    "plt.figure(figsize=(8,5))\n",
    "heatmap = sns.heatmap(cf_matrix, annot=True, fmt='d', color='blue')\n",
    "plt.xlabel('Predicted class')\n",
    "plt.ylabel('True class')\n",
    "plt.title('Confusion matrix of model')"
   ]
  },
  {
   "cell_type": "code",
   "execution_count": 25,
   "metadata": {},
   "outputs": [
    {
     "data": {
      "text/plain": [
       "0.9164733178654292"
      ]
     },
     "execution_count": 25,
     "metadata": {},
     "output_type": "execute_result"
    }
   ],
   "source": [
    "accuracy_score(test_gen.classes, y_pred)\n"
   ]
  },
  {
   "cell_type": "code",
   "execution_count": null,
   "metadata": {},
   "outputs": [],
   "source": []
  }
 ],
 "metadata": {
  "kernelspec": {
   "display_name": "Python 3",
   "language": "python",
   "name": "python3"
  },
  "language_info": {
   "codemirror_mode": {
    "name": "ipython",
    "version": 3
   },
   "file_extension": ".py",
   "mimetype": "text/x-python",
   "name": "python",
   "nbconvert_exporter": "python",
   "pygments_lexer": "ipython3",
   "version": "3.8.3"
  }
 },
 "nbformat": 4,
 "nbformat_minor": 4
}
